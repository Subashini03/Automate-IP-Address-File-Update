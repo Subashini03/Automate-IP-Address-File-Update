{
  "nbformat": 4,
  "nbformat_minor": 0,
  "metadata": {
    "colab": {
      "provenance": [],
      "authorship_tag": "ABX9TyOiC0olnLHFJ1aEcoxVQfFH",
      "include_colab_link": true
    },
    "kernelspec": {
      "name": "python3",
      "display_name": "Python 3"
    },
    "language_info": {
      "name": "python"
    }
  },
  "cells": [
    {
      "cell_type": "markdown",
      "metadata": {
        "id": "view-in-github",
        "colab_type": "text"
      },
      "source": [
        "<a href=\"https://colab.research.google.com/github/Subashini03/Automate-IP-Address-File-Update/blob/main/IP_Addresses_update.ipynb\" target=\"_parent\"><img src=\"https://colab.research.google.com/assets/colab-badge.svg\" alt=\"Open In Colab\"/></a>"
      ]
    },
    {
      "cell_type": "markdown",
      "source": [
        "Update a file through a Python algorithm"
      ],
      "metadata": {
        "id": "6FDbZORCOtP5"
      }
    },
    {
      "cell_type": "code",
      "source": [
        "file_content = \"\"\"\\\n",
        "192.168.1.1\n",
        "192.168.1.2\n",
        "192.168.158.170\n",
        "192.168.58.57\n",
        "192.168.1.3\n",
        "192.168.97.225\n",
        "192.168.201.40\n",
        "\n",
        "\"\"\"\n",
        "\n",
        "with open('allow_list.txt', 'w') as file:\n",
        "    file.write(file_content)\n"
      ],
      "metadata": {
        "id": "o79HIcZpFXTz"
      },
      "execution_count": 41,
      "outputs": []
    },
    {
      "cell_type": "code",
      "source": [
        "# Read the content of the file\n",
        "with open('allow_list.txt', 'r') as file:\n",
        "    allow_list_content = file.read()\n",
        "\n",
        "# Use the content in your code (for example, split into a list of IP addresses)\n",
        "#allow_list = allow_list_content.split()\n",
        "print(allow_list_content)\n"
      ],
      "metadata": {
        "colab": {
          "base_uri": "https://localhost:8080/"
        },
        "id": "Ezb_RmfdFZ5S",
        "outputId": "48325b54-41d7-4f9f-9e26-e1493251ead4"
      },
      "execution_count": 44,
      "outputs": [
        {
          "output_type": "stream",
          "name": "stdout",
          "text": [
            "192.168.1.1\n",
            "192.168.1.2\n",
            "192.168.158.170\n",
            "192.168.58.57\n",
            "192.168.1.3\n",
            "192.168.97.225\n",
            "192.168.201.40\n",
            "\n",
            "\n"
          ]
        }
      ]
    },
    {
      "cell_type": "code",
      "source": [
        "# Assign `import_file` to the name of the file\n",
        "\n",
        "import_file = \"allow_list.txt\"\n",
        "\n",
        "# Assign `remove_list` to a list of IP addresses that are no longer allowed to access restricted information.\n",
        "\n",
        "remove_list = [\"192.168.97.225\", \"192.168.158.170\", \"192.168.201.40\"]\n",
        "print(remove_list)\n",
        "\n",
        "# Build `with` statement to read in the initial contents of the file\n",
        "\n",
        "with open(import_file, \"r\") as file:\n",
        "\n",
        "  # Use `.read()` to read the imported file and store it in a variable named `ip_addresses`\n",
        "\n",
        "  ip_addresses = file.read()\n",
        "\n",
        "# Use `.split()` to convert `ip_addresses` from a string to a list\n",
        "\n",
        "ip_addresses = ip_addresses.split()\n",
        "print(ip_addresses)\n",
        "\n",
        "# Build iterative statement\n",
        "# Name loop variable `element`\n",
        "# Loop through `ip_addresses`\n",
        "\n",
        "for element in ip_addresses:\n",
        "\n",
        "  # Build conditional statement\n",
        "  # If current element is in `remove_list`,\n",
        "\n",
        "    if element in remove_list:\n",
        "\n",
        "        # then current element should be removed from `ip_addresses`\n",
        "\n",
        "        ip_addresses.remove(element)\n",
        "        print(ip_addresses)"
      ],
      "metadata": {
        "colab": {
          "base_uri": "https://localhost:8080/"
        },
        "id": "WoQwpzxTJr7D",
        "outputId": "1b87c5ac-8a4e-4f08-b36c-b388b1e23cb7"
      },
      "execution_count": 57,
      "outputs": [
        {
          "output_type": "stream",
          "name": "stdout",
          "text": [
            "['192.168.97.225', '192.168.158.170', '192.168.201.40']\n",
            "['192.168.1.1', '192.168.1.2', '192.168.158.170', '192.168.58.57', '192.168.1.3', '192.168.97.225', '192.168.201.40']\n",
            "['192.168.1.1', '192.168.1.2', '192.168.58.57', '192.168.1.3', '192.168.97.225', '192.168.201.40']\n",
            "['192.168.1.1', '192.168.1.2', '192.168.58.57', '192.168.1.3', '192.168.201.40']\n"
          ]
        }
      ]
    },
    {
      "cell_type": "code",
      "execution_count": 60,
      "metadata": {
        "colab": {
          "base_uri": "https://localhost:8080/"
        },
        "id": "Hg5i4hNiC4gE",
        "outputId": "035e16cd-85cb-460b-a821-c2647fda093c"
      },
      "outputs": [
        {
          "output_type": "stream",
          "name": "stdout",
          "text": [
            "192.168.1.1 192.168.1.2 192.168.1.3\n"
          ]
        }
      ],
      "source": [
        "# Assign `import_file` to the name of the file\n",
        "\n",
        "import_file = \"allow_list.txt\"\n",
        "\n",
        "# Assign `remove_list` to a list of IP addresses that are no longer allowed to access restricted information.\n",
        "\n",
        "remove_list = [\"192.168.97.225\", \"192.168.158.170\", \"192.168.201.40\", \"192.168.58.57\"]\n",
        "\n",
        "# Build `with` statement to read in the initial contents of the file\n",
        "\n",
        "with open(import_file, \"r\") as file:\n",
        "\n",
        "  # Use `.read()` to read the imported file and store it in a variable named `ip_addresses`\n",
        "\n",
        "  ip_addresses = file.read()\n",
        "\n",
        "# Use `.split()` to convert `ip_addresses` from a string to a list\n",
        "\n",
        "ip_addresses = ip_addresses.split()\n",
        "\n",
        "# Build iterative statement\n",
        "# Name loop variable `element`\n",
        "# Loop through `ip_addresses`\n",
        "\n",
        "for element in ip_addresses:\n",
        "\n",
        "  # Build conditional statement\n",
        "  # If current element is in `remove_list`,\n",
        "\n",
        "    if element in remove_list:\n",
        "\n",
        "        # then current element should be removed from `ip_addresses`\n",
        "\n",
        "        ip_addresses.remove(element)\n",
        "\n",
        "# Convert `ip_addresses` back to a string so that it can be written into the text file\n",
        "\n",
        "ip_addresses = \" \".join(ip_addresses)\n",
        "\n",
        "# Build `with` statement to rewrite the original file\n",
        "\n",
        "with open(import_file, \"w\") as file:\n",
        "\n",
        "  # Rewrite the file, replacing its contents with `ip_addresses`\n",
        "\n",
        "  file.write(ip_addresses)\n",
        "\n",
        "# Build `with` statement to read in the updated file\n",
        "\n",
        "with open(import_file,\"r\")as file:\n",
        "\n",
        "    # Read in the updated file and store the contents in `text`\n",
        "\n",
        "    text = file.read()\n",
        "\n",
        "# Display the contents of `text`\n",
        "\n",
        "print(text)\n"
      ]
    },
    {
      "cell_type": "markdown",
      "source": [
        "Final output has revised list of IP addresses that are only allowed to access the restricted files in an organization"
      ],
      "metadata": {
        "id": "QExptx7OOgZc"
      }
    },
    {
      "cell_type": "code",
      "source": [],
      "metadata": {
        "id": "D1HXJ6YwIkuR"
      },
      "execution_count": null,
      "outputs": []
    }
  ]
}